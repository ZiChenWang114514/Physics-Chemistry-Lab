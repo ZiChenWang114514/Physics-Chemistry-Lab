{
 "cells": [
  {
   "cell_type": "code",
   "execution_count": 2,
   "metadata": {},
   "outputs": [],
   "source": [
    "def calculate_qc(gamma_infinity, c, N_A):\n",
    "    return 10**18 / (gamma_infinity * N_A + 100 * (c * N_A)**(2/3))\n",
    "\n",
    "import math\n",
    "\n",
    "def calculate_sigma_qc(gamma_infinity, sigma_gamma_infinity, c, sigma_c, N_A):\n",
    "    denominator = (gamma_infinity * N_A + (c * N_A)**(2/3))**2\n",
    "    term1 = (N_A * sigma_gamma_infinity / denominator)**2\n",
    "    term2 = ((2/3) * c**(-1/3) * N_A**(2/3) * sigma_c / denominator)**2\n",
    "    return math.sqrt(term1 + term2)\n"
   ]
  },
  {
   "cell_type": "code",
   "execution_count": 6,
   "metadata": {},
   "outputs": [
    {
     "data": {
      "text/plain": [
       "(0.23838597850978932, 1.2358357580170247e-20)"
      ]
     },
     "execution_count": 6,
     "metadata": {},
     "output_type": "execute_result"
    }
   ],
   "source": [
    "calculate_qc(5.90e-6, 0.854, 6.022e23), calculate_sigma_qc(5.90e-6, 0.26e-6, 0.854, 0.001, 6.022e23)"
   ]
  },
  {
   "cell_type": "code",
   "execution_count": 67,
   "metadata": {},
   "outputs": [],
   "source": [
    "# 示例值\n",
    "gamma_infinity = [0.511, 0.544]  # 你的 Gamma_\\infty 值\n",
    "sigma_gamma_infinity = [0.12, 0.24]  # 你的 sigma_Gamma_\\infty 值\n",
    "c = [0.220, 0.329, 0.439, 0.550, 0.740]  # 你的 c 值\n",
    "sigma_c = 0.02  # 你的 sigma_c 值\n",
    "N_A = 6.022e23  # 阿伏伽德罗常数\n"
   ]
  },
  {
   "cell_type": "code",
   "execution_count": 68,
   "metadata": {},
   "outputs": [
    {
     "name": "stdout",
     "output_type": "stream",
     "text": [
      "   $c_{n\\ce{BuOH}}$  $\\Gamma_\\infty$    $q_c$/nm²\n",
      "0             0.220            0.511  0.0$\\pm$0.0\n",
      "1             0.329            0.511  0.0$\\pm$0.0\n",
      "2             0.439            0.511  0.0$\\pm$0.0\n",
      "3             0.550            0.511  0.0$\\pm$0.0\n",
      "4             0.740            0.511  0.0$\\pm$0.0\n"
     ]
    }
   ],
   "source": [
    "import numpy as np\n",
    "import matplotlib.pyplot as plt\n",
    "import pandas as pd\n",
    "\n",
    "# 假设 gamma_infinity, sigma_gamma_infinity, c, sigma_c, 和 N_A 都已定义\n",
    "# gamma_infinity = [...]\n",
    "# sigma_gamma_infinity = [...]\n",
    "# c = [...]\n",
    "# sigma_c = [...]\n",
    "# N_A = 6.022e23\n",
    "\n",
    "\n",
    "columns=['$c_{n\\ce{BuOH}}$', '$\\Gamma_\\infty$', '$q_c$/nm²']\n",
    "df1 = pd.DataFrame(columns=columns)\n",
    "df2 = pd.DataFrame(columns=columns)\n",
    "\n",
    "for i, gamma_value in enumerate(gamma_infinity):\n",
    "    q_c_values = []\n",
    "    for c_value in c:\n",
    "        qc = calculate_qc(gamma_value, c_value, N_A)\n",
    "        sigma_qc = calculate_sigma_qc(gamma_value, sigma_gamma_infinity[i], c_value, sigma_c, N_A)\n",
    "        q_c_values.append(f\"{round(qc, 3)}$\\pm${round(sigma_qc, 3)}\")\n",
    "\n",
    "    if i == 0:\n",
    "        df1['$c_{n\\ce{BuOH}}$'] = c\n",
    "        df1['$\\Gamma_\\infty$'] = gamma_value\n",
    "        df1['$q_c$/nm²'] = q_c_values\n",
    "    else:\n",
    "        df2['$c_{n\\ce{BuOH}}$'] = c\n",
    "        df2['$\\Gamma_\\infty$'] = gamma_value\n",
    "        df2['$q_c$/nm²'] = q_c_values\n",
    "\n",
    "# 展示 df1\n",
    "print(df1)\n",
    "\n"
   ]
  },
  {
   "cell_type": "code",
   "execution_count": 76,
   "metadata": {},
   "outputs": [
    {
     "name": "stdout",
     "output_type": "stream",
     "text": [
      "Gamma_infinity = 5.67e-6\n",
      "Gamma_infinity = 6.02e-6\n",
      "   c_nBuOH  Gamma_infinity          qc (nm^2)\n",
      "0    0.220            5.67  0.272 $\\pm$ 0.007\n",
      "1    0.329            5.67  0.266 $\\pm$ 0.007\n",
      "2    0.439            5.67  0.261 $\\pm$ 0.007\n",
      "3    0.550            5.67  0.257 $\\pm$ 0.007\n",
      "4    0.740            5.67   0.25 $\\pm$ 0.007\n",
      "5    0.854            5.67  0.247 $\\pm$ 0.007\n",
      "\n",
      "\n",
      "   c_nBuOH  Gamma_infinity          qc (nm^2)\n",
      "0    0.220            6.02  0.257 $\\pm$ 0.012\n",
      "1    0.329            6.02  0.252 $\\pm$ 0.012\n",
      "2    0.439            6.02  0.248 $\\pm$ 0.012\n",
      "3    0.550            6.02  0.244 $\\pm$ 0.012\n",
      "4    0.740            6.02  0.238 $\\pm$ 0.012\n",
      "5    0.854            6.02  0.234 $\\pm$ 0.012\n",
      "\n",
      "\n"
     ]
    }
   ],
   "source": [
    "import pandas as pd\n",
    "import math\n",
    "\n",
    "def calculate_qc(gamma_infinity, c, N_A):\n",
    "    return 10**18 / (gamma_infinity * N_A + 100 * (c * N_A)**(2/3))\n",
    "\n",
    "def calculate_sigma_qc(gamma_infinity, sigma_gamma_infinity, c, sigma_c, N_A):\n",
    "    denominator = (gamma_infinity * N_A + (c * N_A)**(2/3))**2\n",
    "    term1 = (N_A * sigma_gamma_infinity / denominator)**2\n",
    "    term2 = ((2/3) * c**(-1/3) * N_A**(2/3) * sigma_c / denominator)**2\n",
    "    return math.sqrt(term1 + term2)*10**18\n",
    "\n",
    "# 示例数据\n",
    "gamma_infinity = [5.67e-6, 6.02e-6]  # Gamma_\\infty 值\n",
    "sigma_gamma_infinity = [0.13e-6, 0.27e-6]  # sigma_Gamma_\\infty 值\n",
    "c = [0.220, 0.329, 0.439, 0.550, 0.740, 0.854]  # c 值\n",
    "sigma_c = 0.02  # sigma_c 值\n",
    "N_A = 6.022e23  # 阿伏伽德罗常数\n",
    "\n",
    "# DataFrame 列名\n",
    "columns = ['c_nBuOH', 'Gamma_infinity', 'qc (nm^2)']\n",
    "\n",
    "# 创建 DataFrame\n",
    "dfs = []\n",
    "for i, gamma_value in enumerate(gamma_infinity):\n",
    "    q_c_values = []\n",
    "    print(f\"Gamma_infinity = {gamma_value*1e6}e-6\")\n",
    "    for c_value in c:\n",
    "        qc = calculate_qc(gamma_value, c_value, N_A)\n",
    "        sigma_qc = calculate_sigma_qc(gamma_value, sigma_gamma_infinity[i], c_value, sigma_c, N_A)\n",
    "        q_c_values.append(f\"{round(qc, 3)} $\\pm$ {round(sigma_qc, 3)}\")\n",
    "\n",
    "    df = pd.DataFrame({'c_nBuOH': c, 'Gamma_infinity': [round(gamma_value*1e6,3)] * len(c), 'qc (nm^2)': q_c_values})\n",
    "    dfs.append(df)\n",
    "\n",
    "# 展示每个 DataFrame\n",
    "for df in dfs:\n",
    "    print(df)\n",
    "    print(\"\\n\")\n",
    "\n"
   ]
  }
 ],
 "metadata": {
  "kernelspec": {
   "display_name": "base",
   "language": "python",
   "name": "python3"
  },
  "language_info": {
   "codemirror_mode": {
    "name": "ipython",
    "version": 3
   },
   "file_extension": ".py",
   "mimetype": "text/x-python",
   "name": "python",
   "nbconvert_exporter": "python",
   "pygments_lexer": "ipython3",
   "version": "3.7.16"
  }
 },
 "nbformat": 4,
 "nbformat_minor": 2
}
