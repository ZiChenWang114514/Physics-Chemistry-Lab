{
 "cells": [
  {
   "cell_type": "code",
   "execution_count": 116,
   "metadata": {},
   "outputs": [],
   "source": [
    "import numpy as np\n",
    "import pandas as pd\n",
    "import matplotlib.pyplot as plt\n",
    "from abc import ABC, abstractmethod\n",
    "import re"
   ]
  },
  {
   "cell_type": "code",
   "execution_count": 117,
   "metadata": {},
   "outputs": [],
   "source": [
    "class Segment():\n",
    "    def __init__(self, info_lines, data_lines, number):\n",
    "        self.number = number\n",
    "        self.info = self.get_info(info_lines)\n",
    "        self.data = self.get_data(data_lines)\n",
    "\n",
    "    def get_data(self, lines):\n",
    "        data = [line.strip().split(', ') for line in lines[1:] if line.strip()]\n",
    "        return pd.DataFrame(data, columns=['Potential/V', 'Current/A', 'Charge/C']).astype({'Potential/V': float, 'Current/A': float, 'Charge/C': float})\n",
    "\n",
    "    def get_info(self, lines):\n",
    "        Eps, ips, Ahs = [], [], []\n",
    "        for line in lines:\n",
    "            if line.startswith('Ep'):\n",
    "                Eps.append(line.split('=')[1].strip())\n",
    "            elif line.startswith('ip'):\n",
    "                ips.append(line.split('=')[1].strip())\n",
    "            elif line.startswith('Ah'):\n",
    "                Ahs.append(line.split('=')[1].strip())\n",
    "\n",
    "        segment_info = {\n",
    "            'Segment': self.number,\n",
    "            'peaks': [{'Ep':e, 'ip':i, 'Ah':a} for e, i, a in zip(Eps, ips, Ahs)] if len(Eps)*len(ips)*len(Ahs) != 0 else None,\n",
    "        }\n",
    "\n",
    "        return segment_info\n",
    "\n",
    "        \n",
    "\n",
    "class CyclicVoltammetry():\n",
    "    def __init__(self, file_name):\n",
    "        self.name = file_name.split('.')[0]\n",
    "        self.text = self.read_file(file_name)\n",
    "        self.inifo = self.initialize()\n",
    "        self.segifo = self.init_segments()\n",
    "\n",
    "    def read_file(self, file_name):\n",
    "        with open(file_name) as f:\n",
    "            lines = f.readlines()\n",
    "        return lines\n",
    "    \n",
    "    def initialize(self):\n",
    "        initial_info = {\n",
    "            'Name': self.name,\n",
    "            'Init E (V)': None,\n",
    "            'High E (V)': None,\n",
    "            'Low E (V)': None,\n",
    "            'Scan Rate (V/s)': None,\n",
    "            'Segments': None,\n",
    "            'Sample Interval (V)': None,\n",
    "            'Sensitivity (A/V)': None,\n",
    "        }\n",
    "\n",
    "        combined_text = \"\\n\".join(self.text).split('Segment 1:')[0]\n",
    "\n",
    "        init_e_pattern = r\"Init E \\(V\\) = ([\\-\\d\\.]+)\"\n",
    "        high_e_pattern = r\"High E \\(V\\) = ([\\-\\d\\.]+)\"\n",
    "        low_e_pattern = r\"Low E \\(V\\) = ([\\-\\d\\.]+)\"\n",
    "        scan_rate_pattern = r\"Scan Rate \\(V/s\\) = ([\\-\\d\\.e]+)\"\n",
    "        segments_pattern = r\"Segment = (\\d+)\"\n",
    "        sample_interval_pattern = r\"Sample Interval \\(V\\) = ([\\-\\d\\.e]+)\"\n",
    "        sensitivity_pattern = r\"Sensitivity \\(A/V\\) = ([\\-\\d\\.e\\-]+)\"\n",
    "\n",
    "        initial_info['Init E (V)'] = re.search(init_e_pattern, combined_text).group(1)\n",
    "        initial_info['High E (V)'] = re.search(high_e_pattern, combined_text).group(1)\n",
    "        initial_info['Low E (V)'] = re.search(low_e_pattern, combined_text).group(1)\n",
    "        initial_info['Scan Rate (V/s)'] = re.search(scan_rate_pattern, combined_text).group(1)\n",
    "        initial_info['Segments'] = int(re.search(segments_pattern, combined_text).group(1))\n",
    "        initial_info['Sample Interval (V)'] = re.search(sample_interval_pattern, combined_text).group(1)\n",
    "        initial_info['Sensitivity (A/V)'] = re.search(sensitivity_pattern, combined_text).group(1)\n",
    "\n",
    "        return initial_info\n",
    "\n",
    "    def init_segments(self):\n",
    "        segments = []\n",
    "        \n",
    "        for i, line in enumerate(self.text):\n",
    "            if line.startswith('Segment 1:'):\n",
    "                segments_text = self.text[i:]\n",
    "                break\n",
    "        else:\n",
    "            raise ValueError('Find segment text failed')\n",
    "        \n",
    "        for i, line in enumerate(segments_text):\n",
    "            if line.startswith('Potential/V, Current/A, Charge/C'):\n",
    "                segments_info_text = segments_text[:i]\n",
    "                segments_data_text = segments_text[i+1:]\n",
    "                break\n",
    "        \n",
    "        segments_info, segments_data = [], []\n",
    "        segment_info_index, segment_data_index = [], []\n",
    "\n",
    "        for i, line in enumerate(segments_info_text):\n",
    "            if line.startswith('Segment '):\n",
    "                segment_info_index.append(i)\n",
    "\n",
    "        for i, line in enumerate(segments_data_text):\n",
    "            if line.startswith('Segment '):\n",
    "                segment_data_index.append(i)\n",
    "\n",
    "        for i in range(len(segment_info_index)):\n",
    "            if i == len(segment_info_index) - 1:\n",
    "                segments_info.append(segments_info_text[segment_info_index[i]:])\n",
    "            else:\n",
    "                segments_info.append(segments_info_text[segment_info_index[i]:segment_info_index[i+1]])\n",
    "\n",
    "        for i in range(len(segment_data_index)):\n",
    "            if i == len(segment_data_index) - 1:\n",
    "                segments_data.append(segments_data_text[segment_data_index[i]:])\n",
    "            else:\n",
    "                segments_data.append(segments_data_text[segment_data_index[i]:segment_data_index[i+1]])\n",
    "\n",
    "        for i, j in zip(segments_info, segments_data):\n",
    "            segments.append(Segment(i, j, len(segments) + 1))\n",
    "\n",
    "        return segments\n",
    "    \n",
    "    \n",
    "    def get_all_data(self):\n",
    "        all_data = [segment.data for segment in self.segifo]\n",
    "        return all_data\n",
    "\n",
    "    def get_segment_data(self, segment_number):\n",
    "        if segment_number <= len(self.segifo):\n",
    "            return self.segifo[segment_number - 1].data\n",
    "        else:\n",
    "            raise ValueError(\"Segment number out of range\")\n",
    "\n",
    "    def get_all_info(self):\n",
    "        all_info = [segment.info for segment in self.segifo]\n",
    "        return all_info\n",
    "\n",
    "    def get_segment_info(self, segment_number):\n",
    "        if segment_number <= len(self.segifo):\n",
    "            return self.segifo[segment_number - 1].info\n",
    "        else:\n",
    "            raise ValueError(\"Segment number out of range\")\n",
    "        \n",
    "    def get_initial_info(self):\n",
    "        return self.inifo\n"
   ]
  },
  {
   "cell_type": "code",
   "execution_count": 118,
   "metadata": {},
   "outputs": [],
   "source": [
    "file_names = ['blank1.txt', \n",
    "              'blank2.txt',\n",
    "              'blank5.txt']"
   ]
  },
  {
   "cell_type": "code",
   "execution_count": 119,
   "metadata": {},
   "outputs": [],
   "source": [
    "cvs = [CyclicVoltammetry(file_name) for file_name in file_names]"
   ]
  },
  {
   "cell_type": "code",
   "execution_count": 120,
   "metadata": {},
   "outputs": [
    {
     "data": {
      "text/plain": [
       "{'Name': 'blank1',\n",
       " 'Init E (V)': '0.65',\n",
       " 'High E (V)': '1.1',\n",
       " 'Low E (V)': '-0.3',\n",
       " 'Scan Rate (V/s)': '0.1',\n",
       " 'Segments': 5,\n",
       " 'Sample Interval (V)': '0.01',\n",
       " 'Sensitivity (A/V)': '1e-5'}"
      ]
     },
     "execution_count": 120,
     "metadata": {},
     "output_type": "execute_result"
    }
   ],
   "source": [
    "cvs[0].get_initial_info()"
   ]
  },
  {
   "cell_type": "code",
   "execution_count": 122,
   "metadata": {},
   "outputs": [
    {
     "data": {
      "text/plain": [
       "'blank1'"
      ]
     },
     "execution_count": 122,
     "metadata": {},
     "output_type": "execute_result"
    }
   ],
   "source": [
    "cvs[0].name"
   ]
  }
 ],
 "metadata": {
  "kernelspec": {
   "display_name": "base",
   "language": "python",
   "name": "python3"
  },
  "language_info": {
   "codemirror_mode": {
    "name": "ipython",
    "version": 3
   },
   "file_extension": ".py",
   "mimetype": "text/x-python",
   "name": "python",
   "nbconvert_exporter": "python",
   "pygments_lexer": "ipython3",
   "version": "3.11.5"
  }
 },
 "nbformat": 4,
 "nbformat_minor": 2
}
